{
 "cells": [
  {
   "cell_type": "code",
   "execution_count": 1,
   "id": "64bab632",
   "metadata": {},
   "outputs": [],
   "source": [
    "#Data Structure in Pandas - Two types  1)Series 2)DataFrame and Panel\n",
    "\n",
    "#Series - it is one-dimaensional array that is storing varaious data types.\n",
    "import pandas as pd"
   ]
  },
  {
   "cell_type": "code",
   "execution_count": 2,
   "id": "4e4ca972",
   "metadata": {},
   "outputs": [
    {
     "data": {
      "text/plain": [
       "'1.5.2'"
      ]
     },
     "execution_count": 2,
     "metadata": {},
     "output_type": "execute_result"
    }
   ],
   "source": [
    "# Check Pandas Verison\n",
    "pd.__version__"
   ]
  },
  {
   "cell_type": "code",
   "execution_count": 3,
   "id": "a2129399",
   "metadata": {},
   "outputs": [
    {
     "data": {
      "text/plain": [
       "0         2\n",
       "1         4\n",
       "2         6\n",
       "3         8\n",
       "4      -4.5\n",
       "5      -2.5\n",
       "6    Pandas\n",
       "dtype: object"
      ]
     },
     "execution_count": 3,
     "metadata": {},
     "output_type": "execute_result"
    }
   ],
   "source": [
    "# Creating Series with List\n",
    "abc= [2,4,6,8,-4.5,-2.5,'Pandas']  # Create List\n",
    "series1 = pd.Series(abc) # Create Series\n",
    "series1 # Print "
   ]
  },
  {
   "cell_type": "code",
   "execution_count": 4,
   "id": "ad9d7b81",
   "metadata": {},
   "outputs": [
    {
     "data": {
      "text/plain": [
       "pandas.core.series.Series"
      ]
     },
     "execution_count": 4,
     "metadata": {},
     "output_type": "execute_result"
    }
   ],
   "source": [
    "# type of data type\n",
    "type(series1)"
   ]
  },
  {
   "cell_type": "code",
   "execution_count": 5,
   "id": "2290688e",
   "metadata": {},
   "outputs": [
    {
     "name": "stderr",
     "output_type": "stream",
     "text": [
      "C:\\Users\\amits\\AppData\\Local\\Temp\\ipykernel_8480\\3232136634.py:2: FutureWarning: The default dtype for empty Series will be 'object' instead of 'float64' in a future version. Specify a dtype explicitly to silence this warning.\n",
      "  empty_series =pd.Series([])\n"
     ]
    },
    {
     "data": {
      "text/plain": [
       "Series([], dtype: float64)"
      ]
     },
     "execution_count": 5,
     "metadata": {},
     "output_type": "execute_result"
    }
   ],
   "source": [
    "#create empty series\n",
    "empty_series =pd.Series([])\n",
    "empty_series"
   ]
  },
  {
   "cell_type": "code",
   "execution_count": 7,
   "id": "49c29eb9",
   "metadata": {},
   "outputs": [
    {
     "data": {
      "text/plain": [
       "A    10\n",
       "B    20\n",
       "C    30\n",
       "D    40\n",
       "E    50\n",
       "dtype: int64"
      ]
     },
     "execution_count": 7,
     "metadata": {},
     "output_type": "execute_result"
    }
   ],
   "source": [
    "# Create Series with Index label\n",
    "series2 = pd.Series([10,20,30,40,50],index=['A','B','C','D','E'])\n",
    "series2"
   ]
  },
  {
   "cell_type": "code",
   "execution_count": 8,
   "id": "1b550c82",
   "metadata": {},
   "outputs": [
    {
     "data": {
      "text/plain": [
       "A    10\n",
       "B    20\n",
       "C    30\n",
       "D    40\n",
       "dtype: int64"
      ]
     },
     "execution_count": 8,
     "metadata": {},
     "output_type": "execute_result"
    }
   ],
   "source": [
    "# Create Series with dictionary\n",
    "data = {\n",
    "    'A':10,\n",
    "    'B':20,\n",
    "    'C':30,\n",
    "    'D':40\n",
    "}\n",
    "series3 =pd.Series(data)\n",
    "series3\n"
   ]
  },
  {
   "cell_type": "code",
   "execution_count": 9,
   "id": "ae6413cb",
   "metadata": {},
   "outputs": [
    {
     "data": {
      "text/plain": [
       "10"
      ]
     },
     "execution_count": 9,
     "metadata": {},
     "output_type": "execute_result"
    }
   ],
   "source": [
    "#Accessing index label\n",
    "series3['A']"
   ]
  },
  {
   "cell_type": "code",
   "execution_count": 10,
   "id": "bcd1d9bc",
   "metadata": {},
   "outputs": [
    {
     "data": {
      "text/plain": [
       "A    10\n",
       "C    30\n",
       "dtype: int64"
      ]
     },
     "execution_count": 10,
     "metadata": {},
     "output_type": "execute_result"
    }
   ],
   "source": [
    "# accessing multiple index\n",
    "series3[['A','C']]"
   ]
  },
  {
   "cell_type": "code",
   "execution_count": 17,
   "id": "0380a44d",
   "metadata": {},
   "outputs": [
    {
     "data": {
      "text/plain": [
       "0     7\n",
       "1     9\n",
       "2    11\n",
       "3    13\n",
       "4    15\n",
       "dtype: int64"
      ]
     },
     "execution_count": 17,
     "metadata": {},
     "output_type": "execute_result"
    }
   ],
   "source": [
    "# Series with Matheematical operation\n",
    "# creating 2 Pandas Series\n",
    "series4 = pd.Series([1, 2, 3, 4, 5])\n",
    "series5 = pd.Series([6, 7, 8, 9, 10])\n",
    "\n",
    "# Addition\n",
    "add = series4 + series5\n",
    "add"
   ]
  },
  {
   "cell_type": "code",
   "execution_count": 18,
   "id": "d8451089",
   "metadata": {},
   "outputs": [
    {
     "data": {
      "text/plain": [
       "0   -5\n",
       "1   -5\n",
       "2   -5\n",
       "3   -5\n",
       "4   -5\n",
       "dtype: int64"
      ]
     },
     "execution_count": 18,
     "metadata": {},
     "output_type": "execute_result"
    }
   ],
   "source": [
    "# subtraction\n",
    "sub = series4-series5\n",
    "sub"
   ]
  },
  {
   "cell_type": "code",
   "execution_count": 19,
   "id": "85acbe9a",
   "metadata": {},
   "outputs": [
    {
     "data": {
      "text/plain": [
       "0     6\n",
       "1    14\n",
       "2    24\n",
       "3    36\n",
       "4    50\n",
       "dtype: int64"
      ]
     },
     "execution_count": 19,
     "metadata": {},
     "output_type": "execute_result"
    }
   ],
   "source": [
    "# Multiplication\n",
    "mul = series4*series5\n",
    "mul"
   ]
  },
  {
   "cell_type": "code",
   "execution_count": 20,
   "id": "f5ba3220",
   "metadata": {},
   "outputs": [
    {
     "data": {
      "text/plain": [
       "0    0.166667\n",
       "1    0.285714\n",
       "2    0.375000\n",
       "3    0.444444\n",
       "4    0.500000\n",
       "dtype: float64"
      ]
     },
     "execution_count": 20,
     "metadata": {},
     "output_type": "execute_result"
    }
   ],
   "source": [
    "# Division\n",
    "div = series4/series5\n",
    "div"
   ]
  },
  {
   "cell_type": "code",
   "execution_count": 21,
   "id": "a95ae877",
   "metadata": {},
   "outputs": [
    {
     "data": {
      "text/plain": [
       "array([ 6,  7,  8,  9, 10], dtype=int64)"
      ]
     },
     "execution_count": 21,
     "metadata": {},
     "output_type": "execute_result"
    }
   ],
   "source": [
    "#Accesing values of array\n",
    "series5.values"
   ]
  },
  {
   "cell_type": "code",
   "execution_count": 22,
   "id": "8529c2be",
   "metadata": {},
   "outputs": [
    {
     "data": {
      "text/plain": [
       "RangeIndex(start=0, stop=5, step=1)"
      ]
     },
     "execution_count": 22,
     "metadata": {},
     "output_type": "execute_result"
    }
   ],
   "source": [
    "#Accessing index label\n",
    "series5.index\n"
   ]
  },
  {
   "cell_type": "code",
   "execution_count": 26,
   "id": "46d317d2",
   "metadata": {},
   "outputs": [
    {
     "data": {
      "text/plain": [
       "5"
      ]
     },
     "execution_count": 26,
     "metadata": {},
     "output_type": "execute_result"
    }
   ],
   "source": [
    "#check lenth of Series\n",
    "series5.__len__()"
   ]
  },
  {
   "cell_type": "code",
   "execution_count": 25,
   "id": "c43098ee",
   "metadata": {},
   "outputs": [
    {
     "data": {
      "text/plain": [
       "8.0"
      ]
     },
     "execution_count": 25,
     "metadata": {},
     "output_type": "execute_result"
    }
   ],
   "source": [
    "#Calculate the Mean\n",
    "series5.mean()"
   ]
  },
  {
   "cell_type": "code",
   "execution_count": 30,
   "id": "f00e653d",
   "metadata": {},
   "outputs": [
    {
     "data": {
      "text/plain": [
       "8.0"
      ]
     },
     "execution_count": 30,
     "metadata": {},
     "output_type": "execute_result"
    }
   ],
   "source": [
    "#Calculate the Median value \n",
    "series5.median()"
   ]
  },
  {
   "cell_type": "code",
   "execution_count": 31,
   "id": "38dcdfe6",
   "metadata": {},
   "outputs": [
    {
     "data": {
      "text/plain": [
       "10"
      ]
     },
     "execution_count": 31,
     "metadata": {},
     "output_type": "execute_result"
    }
   ],
   "source": [
    "# Calculate miximum Value\n",
    "series5.max()"
   ]
  },
  {
   "cell_type": "code",
   "execution_count": 29,
   "id": "5d2a3949",
   "metadata": {},
   "outputs": [
    {
     "data": {
      "text/plain": [
       "6"
      ]
     },
     "execution_count": 29,
     "metadata": {},
     "output_type": "execute_result"
    }
   ],
   "source": [
    "# Calculate Minimum Value\n",
    "series5.min()"
   ]
  },
  {
   "cell_type": "code",
   "execution_count": 32,
   "id": "aa098f74",
   "metadata": {},
   "outputs": [
    {
     "data": {
      "text/plain": [
       "0    False\n",
       "1    False\n",
       "2    False\n",
       "3    False\n",
       "4    False\n",
       "dtype: bool"
      ]
     },
     "execution_count": 32,
     "metadata": {},
     "output_type": "execute_result"
    }
   ],
   "source": [
    "# Checking missing data in series\n",
    "series5.isnull()"
   ]
  },
  {
   "cell_type": "code",
   "execution_count": 33,
   "id": "60b8b5c8",
   "metadata": {},
   "outputs": [
    {
     "data": {
      "text/plain": [
       "0    True\n",
       "1    True\n",
       "2    True\n",
       "3    True\n",
       "4    True\n",
       "dtype: bool"
      ]
     },
     "execution_count": 33,
     "metadata": {},
     "output_type": "execute_result"
    }
   ],
   "source": [
    "# Checking non missing data in series\n",
    "series5.notnull()"
   ]
  },
  {
   "cell_type": "code",
   "execution_count": 44,
   "id": "636156b5",
   "metadata": {},
   "outputs": [
    {
     "name": "stdout",
     "output_type": "stream",
     "text": [
      "A    10\n",
      "B    20\n",
      "C    30\n",
      "D    40\n",
      "E    50\n",
      "dtype: int64\n",
      "Result is   10\n"
     ]
    }
   ],
   "source": [
    "#.loc - Access a group of rows and column by labels or a boolean array\n",
    "print(series2) # Access Series no 2\n",
    "print(\"Result is  \",series2.loc['A'])"
   ]
  },
  {
   "cell_type": "code",
   "execution_count": 47,
   "id": "eaf70fb3",
   "metadata": {},
   "outputs": [
    {
     "data": {
      "text/plain": [
       "(5,)"
      ]
     },
     "execution_count": 47,
     "metadata": {},
     "output_type": "execute_result"
    }
   ],
   "source": [
    "#shape data\n",
    "series2.shape"
   ]
  },
  {
   "cell_type": "code",
   "execution_count": 50,
   "id": "1a5f8d36",
   "metadata": {},
   "outputs": [
    {
     "data": {
      "text/plain": [
       "5"
      ]
     },
     "execution_count": 50,
     "metadata": {},
     "output_type": "execute_result"
    }
   ],
   "source": [
    "#series.size  - number of element in the data\n",
    "series2.size"
   ]
  }
 ],
 "metadata": {
  "kernelspec": {
   "display_name": "Python 3 (ipykernel)",
   "language": "python",
   "name": "python3"
  },
  "language_info": {
   "codemirror_mode": {
    "name": "ipython",
    "version": 3
   },
   "file_extension": ".py",
   "mimetype": "text/x-python",
   "name": "python",
   "nbconvert_exporter": "python",
   "pygments_lexer": "ipython3",
   "version": "3.11.4"
  }
 },
 "nbformat": 4,
 "nbformat_minor": 5
}
