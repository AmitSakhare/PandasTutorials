{
 "cells": [
  {
   "cell_type": "code",
   "execution_count": 1,
   "id": "64bab632",
   "metadata": {},
   "outputs": [],
   "source": [
    "import pandas as pd"
   ]
  },
  {
   "cell_type": "code",
   "execution_count": 2,
   "id": "c45f36b9",
   "metadata": {},
   "outputs": [
    {
     "data": {
      "text/plain": [
       "0          1\n",
       "1       Jack\n",
       "2        3.5\n",
       "3    Welcome\n",
       "dtype: object"
      ]
     },
     "execution_count": 2,
     "metadata": {},
     "output_type": "execute_result"
    }
   ],
   "source": [
    "#Series - It is a one-dimensional array holding data of any type, Series like a column in a table\n",
    "\n",
    "# create series\n",
    "data = pd.Series([1,\"Jack\",3.5,\"Welcome\"])\n",
    "data"
   ]
  },
  {
   "cell_type": "code",
   "execution_count": 3,
   "id": "0b520e32",
   "metadata": {},
   "outputs": [
    {
     "data": {
      "text/plain": [
       "0       1\n",
       "1    Jack\n",
       "dtype: object"
      ]
     },
     "execution_count": 3,
     "metadata": {},
     "output_type": "execute_result"
    }
   ],
   "source": [
    "#Fetch first 2 element\n",
    "data.head(2)"
   ]
  },
  {
   "cell_type": "code",
   "execution_count": 4,
   "id": "84c077b2",
   "metadata": {},
   "outputs": [
    {
     "data": {
      "text/plain": [
       "'Jack'"
      ]
     },
     "execution_count": 4,
     "metadata": {},
     "output_type": "execute_result"
    }
   ],
   "source": [
    "# accessing a element using index element\n",
    "data[1]"
   ]
  },
  {
   "cell_type": "code",
   "execution_count": 5,
   "id": "1d53e4f6",
   "metadata": {},
   "outputs": [
    {
     "data": {
      "text/plain": [
       "2        3.5\n",
       "3    Welcome\n",
       "dtype: object"
      ]
     },
     "execution_count": 5,
     "metadata": {},
     "output_type": "execute_result"
    }
   ],
   "source": [
    "#Using indexing a series using.loc[] - The .loc indexer selects data in differnt way than just indexing operator.it can select subsets of data\n",
    "data.loc[2:4]"
   ]
  },
  {
   "cell_type": "code",
   "execution_count": 6,
   "id": "7003092f",
   "metadata": {},
   "outputs": [
    {
     "data": {
      "text/plain": [
       "2        3.5\n",
       "3    Welcome\n",
       "dtype: object"
      ]
     },
     "execution_count": 6,
     "metadata": {},
     "output_type": "execute_result"
    }
   ],
   "source": [
    "# .iloc[] indexing - Similar to .loc[] but only uses integer location to make its selection\n",
    "data.iloc[2:4]"
   ]
  },
  {
   "cell_type": "code",
   "execution_count": 8,
   "id": "350979bd",
   "metadata": {},
   "outputs": [
    {
     "name": "stdout",
     "output_type": "stream",
     "text": [
      "a    1\n",
      "b    2\n",
      "c    3\n",
      "d    4\n",
      "dtype: int64 \n",
      "\n",
      " a    6\n",
      "b    7\n",
      "c    8\n",
      "d    9\n",
      "dtype: int64\n"
     ]
    }
   ],
   "source": [
    "#Binary operations on series like .add(),sub() \n",
    "import pandas as pd # import pandas module\n",
    "data1 = pd.Series([1,2,3,4],index=['a','b','c','d']) # creating a series 1\n",
    "data2 = pd.Series([6,7,8,9],index=['a','b','c','d']) # creating a series 2\n",
    "\n",
    "print(data1, \"\\n\\n\" ,data2) # Print both series 1 and Series 2"
   ]
  },
  {
   "cell_type": "code",
   "execution_count": 10,
   "id": "89ecabf7",
   "metadata": {},
   "outputs": [
    {
     "data": {
      "text/plain": [
       "a     7\n",
       "b     9\n",
       "c    11\n",
       "d    13\n",
       "dtype: int64"
      ]
     },
     "execution_count": 10,
     "metadata": {},
     "output_type": "execute_result"
    }
   ],
   "source": [
    "#Add two series using .add() function\n",
    "res = data1.add(data2)\n",
    "res"
   ]
  },
  {
   "cell_type": "code",
   "execution_count": 13,
   "id": "cc2805d5",
   "metadata": {},
   "outputs": [
    {
     "data": {
      "text/plain": [
       "a   -5\n",
       "b   -5\n",
       "c   -5\n",
       "d   -5\n",
       "dtype: int64"
      ]
     },
     "execution_count": 13,
     "metadata": {},
     "output_type": "execute_result"
    }
   ],
   "source": [
    "# substract two series using .sub() function\n",
    "res1 =data1.sub(data2)\n",
    "res1"
   ]
  },
  {
   "cell_type": "code",
   "execution_count": 14,
   "id": "73533d86",
   "metadata": {},
   "outputs": [],
   "source": [
    "# importing numpy modules\n",
    "import pandas as pd \n",
    "import numpy as np\n"
   ]
  },
  {
   "cell_type": "code",
   "execution_count": 16,
   "id": "3eefb58d",
   "metadata": {},
   "outputs": [
    {
     "name": "stdout",
     "output_type": "stream",
     "text": [
      "Result 1:\n",
      " 0     70.0\n",
      "1      5.0\n",
      "2      0.0\n",
      "3    225.0\n",
      "4      1.0\n",
      "5     16.0\n",
      "6     53.0\n",
      "7     10.0\n",
      "8      5.0\n",
      "dtype: float64 \n",
      "\n",
      "Result 2:\n",
      " 0    27.0\n",
      "1     5.0\n",
      "2     2.0\n",
      "3    23.0\n",
      "4     1.0\n",
      "5    95.0\n",
      "6    53.0\n",
      "7    10.0\n",
      "8     5.0\n",
      "dtype: float64\n"
     ]
    }
   ],
   "source": [
    "#combine_first()- Method is used to combine two series into one\n",
    "s1 = pd.Series([70, 5, 0, 225, 1, 16, np.nan, 10, np.nan]) # creating series 1\n",
    "s2 = pd.Series([27, np.nan, 2, 23, 1, 95, 53, 10, 5])  # creating series 2\n",
    "result1=s1.combine_first(s2)\n",
    "result2=s2.combine_first(s1)\n",
    "# printing result\n",
    "print('Result 1:\\n', result1, '\\n\\nResult 2:\\n', result2)"
   ]
  },
  {
   "cell_type": "code",
   "execution_count": null,
   "id": "02c8c335",
   "metadata": {},
   "outputs": [],
   "source": []
  },
  {
   "cell_type": "code",
   "execution_count": null,
   "id": "42ee7740",
   "metadata": {},
   "outputs": [],
   "source": []
  },
  {
   "cell_type": "code",
   "execution_count": null,
   "id": "6d92c17c",
   "metadata": {},
   "outputs": [],
   "source": []
  },
  {
   "cell_type": "code",
   "execution_count": null,
   "id": "22c97aca",
   "metadata": {},
   "outputs": [],
   "source": []
  }
 ],
 "metadata": {
  "kernelspec": {
   "display_name": "Python 3 (ipykernel)",
   "language": "python",
   "name": "python3"
  },
  "language_info": {
   "codemirror_mode": {
    "name": "ipython",
    "version": 3
   },
   "file_extension": ".py",
   "mimetype": "text/x-python",
   "name": "python",
   "nbconvert_exporter": "python",
   "pygments_lexer": "ipython3",
   "version": "3.11.2"
  }
 },
 "nbformat": 4,
 "nbformat_minor": 5
}
